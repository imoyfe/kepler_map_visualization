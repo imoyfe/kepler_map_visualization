{
 "metadata": {
  "language_info": {
   "codemirror_mode": {
    "name": "ipython",
    "version": 3
   },
   "file_extension": ".py",
   "mimetype": "text/x-python",
   "name": "python",
   "nbconvert_exporter": "python",
   "pygments_lexer": "ipython3",
   "version": "3.7.6-final"
  },
  "orig_nbformat": 2,
  "kernelspec": {
   "name": "python3",
   "display_name": "Python 3"
  }
 },
 "nbformat": 4,
 "nbformat_minor": 2,
 "cells": [
  {
   "cell_type": "code",
   "execution_count": 10,
   "metadata": {},
   "outputs": [],
   "source": [
    "import geopandas as gpd\n",
    "import matplotlib.pyplot as plt\n",
    "import pandas as pd\n",
    "import missingno as msno\n",
    "from keplergl import KeplerGl\n",
    "import data"
   ]
  },
  {
   "cell_type": "code",
   "execution_count": 13,
   "metadata": {},
   "outputs": [],
   "source": [
    "# Load Barcelona neighborhood coordinates:\n",
    "barris = \"./data/bcn-barris.geojson\"\n",
    "\n",
    "map_data = gpd.read_file(barris)\n",
    "\n",
    "\n",
    "# Load Barcelona house pricing data:\n",
    "prices_2013 = pd.read_csv(\"./data/2013_comp_vend_preu.csv\")\n",
    "prices_2014 = pd.read_csv(\"./data/2014_comp_vend_preu_trim.csv\")\n",
    "prices_2015 = pd.read_csv(\"./data/2015_comp_vend_preu_trim.csv\")\n",
    "prices_2016 = pd.read_csv(\"./data/2016_comp_vend_preu_trim.csv\")\n",
    "prices_2017 = pd.read_csv(\"./data/2017_comp_vend_preu_trim.csv\")\n",
    "prices_2018 = pd.read_csv(\"./data/2018_comp_vend_preu_trim.csv\")\n",
    "prices_2019 = pd.read_csv(\"./data/2019_comp_vend_preu_trim.csv\")\n",
    "prices_2020 = pd.read_csv(\"./data/2020_comp_vend_preu_trim.csv\")\n",
    "\n",
    "#map_data.BARRI\n",
    "map_data = map_data.sort_values(by=[\"BARRI\"])\n"
   ]
  },
  {
   "cell_type": "code",
   "execution_count": 14,
   "metadata": {},
   "outputs": [],
   "source": [
    "prices_2013[\"geometry\"] = map_data.geometry\n",
    "prices_2014[\"geometry\"] = map_data.geometry\n",
    "prices_2015[\"geometry\"] = map_data.geometry\n",
    "prices_2016[\"geometry\"] = map_data.geometry\n",
    "prices_2017[\"geometry\"] = map_data.geometry\n",
    "prices_2018[\"geometry\"] = map_data.geometry\n",
    "prices_2019[\"geometry\"] = map_data.geometry\n",
    "prices_2020[\"geometry\"] = map_data.geometry"
   ]
  },
  {
   "cell_type": "code",
   "execution_count": 15,
   "metadata": {},
   "outputs": [
    {
     "output_type": "stream",
     "name": "stdout",
     "text": [
      "DF before cleaning:  (11826, 9)\nDF after cleaning:  (584, 9)\n"
     ]
    }
   ],
   "source": [
    "df1 = pd.concat([prices_2013, prices_2014,prices_2015, prices_2016, prices_2017, prices_2018, prices_2019, prices_2020])\n",
    "\n",
    "# We can eliminate all NaN values since the would correpsond to \"NOU\" and \"USAT\" houses and we only want to keep \"TOTAL\" values.\n",
    "\n",
    "print(\"DF before cleaning: \", df1.shape)\n",
    "df1.dropna(subset=[\"geometry\"], inplace=True)\n",
    "print(\"DF after cleaning: \", df1.shape)\n"
   ]
  },
  {
   "cell_type": "code",
   "execution_count": 16,
   "metadata": {},
   "outputs": [],
   "source": [
    "# We need to create a datetime format column in order to visualize the data in motion\n",
    "df1[\"Any\"] = df1[\"Any\"].astype(str) + \"/12/31 23:59\""
   ]
  },
  {
   "cell_type": "code",
   "execution_count": 17,
   "metadata": {},
   "outputs": [],
   "source": [
    "df1.to_csv(\"house_pricing.csv\", index=False)"
   ]
  },
  {
   "cell_type": "code",
   "execution_count": 18,
   "metadata": {},
   "outputs": [],
   "source": [
    "# Checking missing values:\n",
    "#msno.matrix(df1)"
   ]
  },
  {
   "cell_type": "code",
   "execution_count": 19,
   "metadata": {},
   "outputs": [
    {
     "output_type": "execute_result",
     "data": {
      "text/plain": [
       "                Any  Codi_Districte Nom_Districte  Codi_Barri       Nom_Barri  \\\n",
       "0  2013/12/31 23:59               1  Ciutat Vella           1        el Raval   \n",
       "1  2013/12/31 23:59               1  Ciutat Vella           2  el Barri Gòtic   \n",
       "2  2013/12/31 23:59               1  Ciutat Vella           3  la Barceloneta   \n",
       "\n",
       "    Preu_mitja_habitatge  Valor  \\\n",
       "0  Total. Milers d'euros   97.0   \n",
       "1  Total. Milers d'euros  212.4   \n",
       "2  Total. Milers d'euros  175.5   \n",
       "\n",
       "                                            geometry  Trimestre  \n",
       "0  POLYGON ((2.16471 41.38593, 2.16936 41.38554, ...        NaN  \n",
       "1  POLYGON ((2.17701 41.38525, 2.17873 41.38396, ...        NaN  \n",
       "2  POLYGON ((2.19623 41.38745, 2.19631 41.38745, ...        NaN  "
      ],
      "text/html": "<div>\n<style scoped>\n    .dataframe tbody tr th:only-of-type {\n        vertical-align: middle;\n    }\n\n    .dataframe tbody tr th {\n        vertical-align: top;\n    }\n\n    .dataframe thead th {\n        text-align: right;\n    }\n</style>\n<table border=\"1\" class=\"dataframe\">\n  <thead>\n    <tr style=\"text-align: right;\">\n      <th></th>\n      <th>Any</th>\n      <th>Codi_Districte</th>\n      <th>Nom_Districte</th>\n      <th>Codi_Barri</th>\n      <th>Nom_Barri</th>\n      <th>Preu_mitja_habitatge</th>\n      <th>Valor</th>\n      <th>geometry</th>\n      <th>Trimestre</th>\n    </tr>\n  </thead>\n  <tbody>\n    <tr>\n      <th>0</th>\n      <td>2013/12/31 23:59</td>\n      <td>1</td>\n      <td>Ciutat Vella</td>\n      <td>1</td>\n      <td>el Raval</td>\n      <td>Total. Milers d'euros</td>\n      <td>97.0</td>\n      <td>POLYGON ((2.16471 41.38593, 2.16936 41.38554, ...</td>\n      <td>NaN</td>\n    </tr>\n    <tr>\n      <th>1</th>\n      <td>2013/12/31 23:59</td>\n      <td>1</td>\n      <td>Ciutat Vella</td>\n      <td>2</td>\n      <td>el Barri Gòtic</td>\n      <td>Total. Milers d'euros</td>\n      <td>212.4</td>\n      <td>POLYGON ((2.17701 41.38525, 2.17873 41.38396, ...</td>\n      <td>NaN</td>\n    </tr>\n    <tr>\n      <th>2</th>\n      <td>2013/12/31 23:59</td>\n      <td>1</td>\n      <td>Ciutat Vella</td>\n      <td>3</td>\n      <td>la Barceloneta</td>\n      <td>Total. Milers d'euros</td>\n      <td>175.5</td>\n      <td>POLYGON ((2.19623 41.38745, 2.19631 41.38745, ...</td>\n      <td>NaN</td>\n    </tr>\n  </tbody>\n</table>\n</div>"
     },
     "metadata": {},
     "execution_count": 19
    }
   ],
   "source": [
    "df1.head(3)"
   ]
  },
  {
   "cell_type": "code",
   "execution_count": 20,
   "metadata": {},
   "outputs": [
    {
     "output_type": "stream",
     "name": "stdout",
     "text": [
      "User Guide: https://docs.kepler.gl/docs/keplergl-jupyter\n"
     ]
    }
   ],
   "source": [
    "#Creating the map object:\n",
    "kepler_map = KeplerGl(height = 800)\n",
    "\n",
    "#Adding data:\n",
    "with open('house_pricing.csv', 'r') as f:\n",
    "    csvData = f.read()\n",
    "kepler_map.add_data(data=csvData, name='data')\n"
   ]
  },
  {
   "cell_type": "code",
   "execution_count": 42,
   "metadata": {},
   "outputs": [
    {
     "output_type": "display_data",
     "data": {
      "text/plain": "KeplerGl(data={'data': 'Any,Codi_Districte,Nom_Districte,Codi_Barri,Nom_Barri,Preu_mitja_habitatge,Valor,geome…",
      "application/vnd.jupyter.widget-view+json": {
       "version_major": 2,
       "version_minor": 0,
       "model_id": "86ee2c9cd3ab417f85bc3d494ea09c19"
      }
     },
     "metadata": {}
    }
   ],
   "source": [
    "# Visualize the map:\n",
    "kepler_map"
   ]
  },
  {
   "cell_type": "code",
   "execution_count": 54,
   "metadata": {},
   "outputs": [],
   "source": [
    "config = {\n",
    "  \"version\": \"v1\",\n",
    "  \"config\": {\n",
    "    \"visState\": {\n",
    "      \"filters\": [\n",
    "        {\n",
    "          \"dataId\": [\n",
    "            \"data\"\n",
    "          ],\n",
    "          \"id\": \"duo6r92w\",\n",
    "          \"name\": [\n",
    "            \"Any\"\n",
    "          ],\n",
    "          \"type\": \"timeRange\",\n",
    "          \"value\": [\n",
    "            1388534340000,\n",
    "            1609459140000\n",
    "          ],\n",
    "          \"enlarged\": True,\n",
    "          \"plotType\": \"histogram\",\n",
    "          \"yAxis\": None\n",
    "        },\n",
    "        {\n",
    "          \"dataId\": [\n",
    "            \"data\"\n",
    "          ],\n",
    "          \"id\": \"8bv5f1tab\",\n",
    "          \"name\": [\n",
    "            \"Nom_Districte\"\n",
    "          ],\n",
    "          \"type\": \"multiSelect\",\n",
    "          \"value\": [],\n",
    "          \"enlarged\": False,\n",
    "          \"plotType\": \"histogram\",\n",
    "          \"yAxis\": None\n",
    "        }\n",
    "      ],\n",
    "      \"layers\": [\n",
    "        {\n",
    "          \"id\": \"8xb1qn\",\n",
    "          \"type\": \"geojson\",\n",
    "          \"config\": {\n",
    "            \"dataId\": \"data\",\n",
    "            \"label\": \"data\",\n",
    "            \"color\": [\n",
    "              30,\n",
    "              150,\n",
    "              190\n",
    "            ],\n",
    "            \"columns\": {\n",
    "              \"geojson\": \"geometry\"\n",
    "            },\n",
    "            \"isVisible\": True,\n",
    "            \"visConfig\": {\n",
    "              \"opacity\": 0.8,\n",
    "              \"strokeOpacity\": 0.72,\n",
    "              \"thickness\": 0.5,\n",
    "              \"strokeColor\": [\n",
    "                162,\n",
    "                126,\n",
    "                91\n",
    "              ],\n",
    "              \"colorRange\": {\n",
    "                \"name\": \"ColorBrewer YlOrBr-6\",\n",
    "                \"type\": \"sequential\",\n",
    "                \"category\": \"ColorBrewer\",\n",
    "                \"colors\": [\n",
    "                  \"#ffffd4\",\n",
    "                  \"#fee391\",\n",
    "                  \"#fec44f\",\n",
    "                  \"#fe9929\",\n",
    "                  \"#d95f0e\",\n",
    "                  \"#993404\"\n",
    "                ]\n",
    "              },\n",
    "              \"strokeColorRange\": {\n",
    "                \"name\": \"Global Warming\",\n",
    "                \"type\": \"sequential\",\n",
    "                \"category\": \"Uber\",\n",
    "                \"colors\": [\n",
    "                  \"#5A1846\",\n",
    "                  \"#900C3F\",\n",
    "                  \"#C70039\",\n",
    "                  \"#E3611C\",\n",
    "                  \"#F1920E\",\n",
    "                  \"#FFC300\"\n",
    "                ]\n",
    "              },\n",
    "              \"radius\": 10,\n",
    "              \"sizeRange\": [\n",
    "                0,\n",
    "                10\n",
    "              ],\n",
    "              \"radiusRange\": [\n",
    "                0,\n",
    "                50\n",
    "              ],\n",
    "              \"heightRange\": [\n",
    "                0,\n",
    "                500\n",
    "              ],\n",
    "              \"elevationScale\": 5,\n",
    "              \"stroked\": True,\n",
    "              \"filled\": True,\n",
    "              \"enable3d\": False,\n",
    "              \"wireframe\": False\n",
    "            },\n",
    "            \"hidden\": False,\n",
    "            \"textLabel\": [\n",
    "              {\n",
    "                \"field\": None,\n",
    "                \"color\": [\n",
    "                  255,\n",
    "                  255,\n",
    "                  255\n",
    "                ],\n",
    "                \"size\": 18,\n",
    "                \"offset\": [\n",
    "                  0,\n",
    "                  0\n",
    "                ],\n",
    "                \"anchor\": \"start\",\n",
    "                \"alignment\": \"center\"\n",
    "              }\n",
    "            ]\n",
    "          },\n",
    "          \"visualChannels\": {\n",
    "            \"colorField\": {\n",
    "              \"name\": \"Valor\",\n",
    "              \"type\": \"real\"\n",
    "            },\n",
    "            \"colorScale\": \"quantile\",\n",
    "            \"sizeField\": None,\n",
    "            \"sizeScale\": \"linear\",\n",
    "            \"strokeColorField\": None,\n",
    "            \"strokeColorScale\": \"quantile\",\n",
    "            \"heightField\": None,\n",
    "            \"heightScale\": \"linear\",\n",
    "            \"radiusField\": None,\n",
    "            \"radiusScale\": \"linear\"\n",
    "          }\n",
    "        }\n",
    "      ],\n",
    "      \"interactionConfig\": {\n",
    "        \"tooltip\": {\n",
    "          \"fieldsToShow\": {\n",
    "            \"data\": [\n",
    "              {\n",
    "                \"name\": \"Nom_Barri\",\n",
    "                \"format\": None\n",
    "              },\n",
    "              {\n",
    "                \"name\": \"Valor\",\n",
    "                \"format\": None\n",
    "              },\n",
    "              {\n",
    "                \"name\": \"Preu_mitja_habitatge\",\n",
    "                \"format\": None\n",
    "              },\n",
    "              {\n",
    "                \"name\": \"Nom_Districte\",\n",
    "                \"format\": None\n",
    "              }\n",
    "            ]\n",
    "          },\n",
    "          \"compareMode\": False,\n",
    "          \"compareType\": \"absolute\",\n",
    "          \"enabled\": True\n",
    "        },\n",
    "        \"brush\": {\n",
    "          \"size\": 0.5,\n",
    "          \"enabled\": False\n",
    "        },\n",
    "        \"geocoder\": {\n",
    "          \"enabled\": False\n",
    "        },\n",
    "        \"coordinate\": {\n",
    "          \"enabled\": False\n",
    "        }\n",
    "      },\n",
    "      \"layerBlending\": \"normal\",\n",
    "      \"splitMaps\": [],\n",
    "      \"animationConfig\": {\n",
    "        \"currentTime\": None,\n",
    "        \"speed\": 1\n",
    "      }\n",
    "    },\n",
    "    \"mapState\": {\n",
    "      \"bearing\": 0,\n",
    "      \"dragRotate\": False,\n",
    "      \"latitude\": 41.39266805645755,\n",
    "      \"longitude\": 2.140189191771741,\n",
    "      \"pitch\": 0,\n",
    "      \"zoom\": 11,\n",
    "      \"isSplit\": False\n",
    "    },\n",
    "    \"mapStyle\": {\n",
    "      \"styleType\": \"dark\",\n",
    "      \"topLayerGroups\": {\n",
    "        \"label\": True\n",
    "      },\n",
    "      \"visibleLayerGroups\": {\n",
    "        \"label\": True,\n",
    "        \"road\": True,\n",
    "        \"border\": False,\n",
    "        \"building\": True,\n",
    "        \"water\": True,\n",
    "        \"land\": True,\n",
    "        \"3d building\": False\n",
    "      },\n",
    "      \"threeDBuildingColor\": [\n",
    "        9.665468314072013,\n",
    "        17.18305478057247,\n",
    "        31.1442867897876\n",
    "      ],\n",
    "      \"mapStyles\": {}\n",
    "    }\n",
    "  }\n",
    "}"
   ]
  },
  {
   "cell_type": "code",
   "execution_count": 57,
   "metadata": {},
   "outputs": [],
   "source": [
    "kepler_map.config = config"
   ]
  },
  {
   "cell_type": "code",
   "execution_count": 58,
   "metadata": {},
   "outputs": [
    {
     "output_type": "stream",
     "name": "stdout",
     "text": [
      "Map saved to kepler_map.html!\n"
     ]
    }
   ],
   "source": [
    "kepler_map.save_to_html(data={\"House Prices by Neighborhood\": csvData}, config=config, file_name=\"kepler_map.html\")"
   ]
  }
 ]
}